{
 "cells": [
  {
   "cell_type": "code",
   "execution_count": 1,
   "metadata": {},
   "outputs": [
    {
     "name": "stdout",
     "output_type": "stream",
     "text": [
      "Tryptophan, four kynurenine-pathway metabolites (kynurenine, kynurenate, xanthurenate and quinolinate)\n",
      "                   and indolelactate were positively associated with T2D risk, while indolepropionate was inversely \n",
      "                   associated with T2D risk. We identified multiple host genetic variants, dietary factors, gut bacteria \n",
      "                   and their potential interplay associated with these T2D-relaetd metabolites. Intakes of fibre-rich foods, \n",
      "                   but not protein/tryptophan-rich foods, were the dietary factors most strongly associated with tryptophan \n",
      "                   metabolites. The fibre-indolepropionate association was partially explained by indolepropionate-associated \n",
      "                   gut bacteria, mostly fibre-using Firmicutes. We identified a novel association between a host functional \n",
      "                   LCT variant (determining lactase persistence) and serum indolepropionate, which might be related to a host \n",
      "                   gene-diet interaction on gut Bifidobacterium, a probiotic bacterium significantly associated with \n",
      "                   indolepropionate independent of other fibre-related bacteria. Higher milk intake was associated with higher \n",
      "                   levels of gut Bifidobacterium and serum indolepropionate only among genetically lactase non-persistent \n",
      "                   individuals.\n"
     ]
    }
   ],
   "source": [
    "import json\n",
    "\n",
    "from promptify import ChatGPT \n",
    "from promptify import Prompter\n",
    "from pprint import pprint\n",
    "\n",
    "from IPython.display import Markdown, display, HTML\n",
    "\n",
    "# Create an instance of OpenAI model based on revChatGPT.V1\n",
    "model = ChatGPT(config = {\n",
    "    # conversation_id\": \"UUID...\",\n",
    "    # \"parent_id\": \"UUID...\",\n",
    "    \"access_token\": \"eyJhbGciOiJSUzI1NiIsInR5cCI6IkpXVCIsImtpZCI6Ik1UaEVOVUpHTkVNMVFURTRNMEZCTWpkQ05UZzVNRFUxUlRVd1FVSkRNRU13UmtGRVFrRXpSZyJ9.eyJodHRwczovL2FwaS5vcGVuYWkuY29tL3Byb2ZpbGUiOnsiZW1haWwiOiJoaC51c2xpZmVAZ21haWwuY29tIiwiZW1haWxfdmVyaWZpZWQiOnRydWV9LCJodHRwczovL2FwaS5vcGVuYWkuY29tL2F1dGgiOnsidXNlcl9pZCI6InVzZXItWlJPOE1CWTFMenBCZWc5ZXdzZGxhMkpQIn0sImlzcyI6Imh0dHBzOi8vYXV0aDAub3BlbmFpLmNvbS8iLCJzdWIiOiJnb29nbGUtb2F1dGgyfDExNjcwNzk0Mjk2MDE0OTg4OTI0OSIsImF1ZCI6WyJodHRwczovL2FwaS5vcGVuYWkuY29tL3YxIiwiaHR0cHM6Ly9vcGVuYWkub3BlbmFpLmF1dGgwYXBwLmNvbS91c2VyaW5mbyJdLCJpYXQiOjE2Nzg4NDkwMDYsImV4cCI6MTY4MDA1ODYwNiwiYXpwIjoiVGRKSWNiZTE2V29USHROOTVueXl3aDVFNHlPbzZJdEciLCJzY29wZSI6Im9wZW5pZCBwcm9maWxlIGVtYWlsIG1vZGVsLnJlYWQgbW9kZWwucmVxdWVzdCBvcmdhbml6YXRpb24ucmVhZCBvZmZsaW5lX2FjY2VzcyJ9.h7f1FepYX1ViI17bNFMm26Rgas6qosE2w-iF6Sl3wI9HnEVT_yn3zI5sf4m_mUy_mwCuRPXI7Aaj-P6pxjljzfPUt7MpAgr1cW1oUI5yRDN07LJrKAJSyBYdTzS0F05ph79ZWCm2DLkFRcM9O33ItyDWTBpatwI_BMRkwL4UY7zhHTaZUQYJrjYHTiSevZvH-dg61vG38Hm1lHnyZYfzujfAJwN3Qc-2nCmL56Jjuyf9dGrbdn7sROahkcKWB71i-J5dMYzT1uBVoVEkv4IbmoTLcVSN_gQnFEBv8L39imBEvUL4SoGou7eTdtBaH6gXN0AWHVs9KeS6OGItaa6ELQ\",\n",
    "    \"proxy\": \"http://127.0.0.1:7890\",\n",
    "    \"paid\": True,\n",
    "    \"model\": \"gpt-4\"\n",
    "})\n",
    "\n",
    "nlp_prompter = Prompter(model)\n",
    "\n",
    "# Example sentence for demonstration\n",
    "sentence     =  \"\"\"Tryptophan, four kynurenine-pathway metabolites (kynurenine, kynurenate, xanthurenate and quinolinate)\n",
    "                   and indolelactate were positively associated with T2D risk, while indolepropionate was inversely \n",
    "                   associated with T2D risk. We identified multiple host genetic variants, dietary factors, gut bacteria \n",
    "                   and their potential interplay associated with these T2D-relaetd metabolites. Intakes of fibre-rich foods, \n",
    "                   but not protein/tryptophan-rich foods, were the dietary factors most strongly associated with tryptophan \n",
    "                   metabolites. The fibre-indolepropionate association was partially explained by indolepropionate-associated \n",
    "                   gut bacteria, mostly fibre-using Firmicutes. We identified a novel association between a host functional \n",
    "                   LCT variant (determining lactase persistence) and serum indolepropionate, which might be related to a host \n",
    "                   gene-diet interaction on gut Bifidobacterium, a probiotic bacterium significantly associated with \n",
    "                   indolepropionate independent of other fibre-related bacteria. Higher milk intake was associated with higher \n",
    "                   levels of gut Bifidobacterium and serum indolepropionate only among genetically lactase non-persistent \n",
    "                   individuals.\"\"\"\n",
    "\n",
    "print(sentence)"
   ]
  },
  {
   "cell_type": "code",
   "execution_count": 2,
   "metadata": {},
   "outputs": [
    {
     "name": "stdout",
     "output_type": "stream",
     "text": [
      "[\n",
      "    [\"Tryptophan\", \"associated_with\", \"T2D risk\"],\n",
      "    [\"kynurenine\", \"associated_with\", \"T2D risk\"],\n",
      "    [\"kynurenate\", \"associated_with\", \"T2D risk\"],\n",
      "    [\"xanthurenate\", \"associated_with\", \"T2D risk\"],\n",
      "    [\"quinolinate\", \"associated_with\", \"T2D risk\"],\n",
      "    [\"indolelactate\", \"associated_with\", \"T2D risk\"],\n",
      "    [\"indolepropionate\", \"inversely_associated_with\", \"T2D risk\"],\n",
      "    [\"fibre-rich foods\", \"strongly_associated_with\", \"tryptophan metabolites\"],\n",
      "    [\"protein/tryptophan-rich foods\", \"not_associated_with\", \"tryptophan metabolites\"],\n",
      "    [\"fibre-indolepropionate association\", \"partially_explained_by\", \"indolepropionate-associated gut bacteria\"],\n",
      "    [\"indolepropionate-associated gut bacteria\", \"mostly\", \"fibre-using Firmicutes\"],\n",
      "    [\"LCT variant\", \"associated_with\", \"serum indolepropionate\"],\n",
      "    [\"LCT variant\", \"determines\", \"lactase persistence\"],\n",
      "    [\"host gene-diet interaction\", \"related_to\", \"gut Bifidobacterium\"],\n",
      "    [\"Bifidobacterium\", \"associated_with\", \"indolepropionate independent of other fibre-related bacteria\"],\n",
      "    [\"probiotic bacterium\", \"significantly_associated_with\", \"indolepropionate\"],\n",
      "    [\"higher milk intake\", \"associated_with\", \"higher levels of gut Bifidobacterium\"],\n",
      "    [\"higher milk intake\", \"associated_with\", \"higher levels of serum indolepropionate\"],\n",
      "    [\"genetically lactase non-persistent individuals\", \"show_association_between\", \"higher milk intake and gut Bifidobacterium\"],\n",
      "    [\"genetically lactase non-persistent individuals\", \"show_association_between\", \"higher milk intake and serum indolepropionate\"]\n",
      "]\n"
     ]
    },
    {
     "data": {
      "text/html": [
       "<h4>Sentence</h4>"
      ],
      "text/plain": [
       "<IPython.core.display.HTML object>"
      ]
     },
     "metadata": {},
     "output_type": "display_data"
    },
    {
     "name": "stdout",
     "output_type": "stream",
     "text": [
      "\n",
      "\n",
      "Tryptophan, four kynurenine-pathway metabolites (kynurenine, kynurenate, xanthurenate and quinolinate)\n",
      "                   and indolelactate were positively associated with T2D risk, while indolepropionate was inversely \n",
      "                   associated with T2D risk. We identified multiple host genetic variants, dietary factors, gut bacteria \n",
      "                   and their potential interplay associated with these T2D-relaetd metabolites. Intakes of fibre-rich foods, \n",
      "                   but not protein/tryptophan-rich foods, were the dietary factors most strongly associated with tryptophan \n",
      "                   metabolites. The fibre-indolepropionate association was partially explained by indolepropionate-associated \n",
      "                   gut bacteria, mostly fibre-using Firmicutes. We identified a novel association between a host functional \n",
      "                   LCT variant (determining lactase persistence) and serum indolepropionate, which might be related to a host \n",
      "                   gene-diet interaction on gut Bifidobacterium, a probiotic bacterium significantly associated with \n",
      "                   indolepropionate independent of other fibre-related bacteria. Higher milk intake was associated with higher \n",
      "                   levels of gut Bifidobacterium and serum indolepropionate only among genetically lactase non-persistent \n",
      "                   individuals.\n",
      "\n",
      "\n"
     ]
    },
    {
     "data": {
      "text/html": [
       "<h4>Output</h4>"
      ],
      "text/plain": [
       "<IPython.core.display.HTML object>"
      ]
     },
     "metadata": {},
     "output_type": "display_data"
    },
    {
     "name": "stdout",
     "output_type": "stream",
     "text": [
      "\n",
      "\n",
      "[['Tryptophan', 'associated_with', 'T2D risk'],\n",
      " ['kynurenine', 'associated_with', 'T2D risk'],\n",
      " ['kynurenate', 'associated_with', 'T2D risk'],\n",
      " ['xanthurenate', 'associated_with', 'T2D risk'],\n",
      " ['quinolinate', 'associated_with', 'T2D risk'],\n",
      " ['indolelactate', 'associated_with', 'T2D risk'],\n",
      " ['indolepropionate', 'inversely_associated_with', 'T2D risk'],\n",
      " ['fibre-rich foods', 'strongly_associated_with', 'tryptophan metabolites'],\n",
      " ['protein/tryptophan-rich foods',\n",
      "  'not_associated_with',\n",
      "  'tryptophan metabolites'],\n",
      " ['fibre-indolepropionate association',\n",
      "  'partially_explained_by',\n",
      "  'indolepropionate-associated gut bacteria'],\n",
      " ['indolepropionate-associated gut bacteria',\n",
      "  'mostly',\n",
      "  'fibre-using Firmicutes'],\n",
      " ['LCT variant', 'associated_with', 'serum indolepropionate'],\n",
      " ['LCT variant', 'determines', 'lactase persistence'],\n",
      " ['host gene-diet interaction', 'related_to', 'gut Bifidobacterium'],\n",
      " ['Bifidobacterium',\n",
      "  'associated_with',\n",
      "  'indolepropionate independent of other fibre-related bacteria'],\n",
      " ['probiotic bacterium', 'significantly_associated_with', 'indolepropionate'],\n",
      " ['higher milk intake',\n",
      "  'associated_with',\n",
      "  'higher levels of gut Bifidobacterium'],\n",
      " ['higher milk intake',\n",
      "  'associated_with',\n",
      "  'higher levels of serum indolepropionate'],\n",
      " ['genetically lactase non-persistent individuals',\n",
      "  'show_association_between',\n",
      "  'higher milk intake and gut Bifidobacterium'],\n",
      " ['genetically lactase non-persistent individuals',\n",
      "  'show_association_between',\n",
      "  'higher milk intake and serum indolepropionate']]\n"
     ]
    }
   ],
   "source": [
    "result       = nlp_prompter.fit('relation_extraction.jinja', \n",
    "                                 domain = 'clinical',\n",
    "                                 text_input  = sentence)\n",
    "\n",
    "print(result['text'])\n",
    "\n",
    "# Output\n",
    "\n",
    "display(HTML('<h4>Sentence</h4>'))\n",
    "print('\\n')\n",
    "print(sentence)\n",
    "print('\\n')\n",
    "display(HTML('<h4>Output</h4>'))\n",
    "print(\"\\n\")\n",
    "pprint(eval(result['text']))"
   ]
  },
  {
   "attachments": {},
   "cell_type": "markdown",
   "metadata": {},
   "source": [
    "## Load examples"
   ]
  },
  {
   "cell_type": "code",
   "execution_count": null,
   "metadata": {},
   "outputs": [],
   "source": [
    "import json\n",
    "\n",
    "relation_examples = json.load(open(\"examples/data/relation_extraction.json\",'r'))\n",
    "print(\"Got\", len(relation_examples), \"examples.\")\n",
    "\n",
    "prompt_examples = []\n",
    "for sample in relation_examples:\n",
    "    prompt_examples.append((sample['text'], sample['labels']))\n",
    "print()"
   ]
  },
  {
   "cell_type": "code",
   "execution_count": null,
   "metadata": {},
   "outputs": [],
   "source": [
    "result       = nlp_prompter.fit('relation_extraction.jinja', \n",
    "                                 domain = 'clinical',\n",
    "                                 examples = [prompt_examples[0]],\n",
    "                                 text_input  = sentence)\n",
    "# print(result)\n",
    "print(result['text'])\n",
    "\n",
    "# Output\n",
    "\n",
    "display(HTML('<h4>Sentence</h4>'))\n",
    "print('\\n')\n",
    "print(sentence)\n",
    "print('\\n')\n",
    "display(HTML('<h4>Output</h4>'))\n",
    "print(\"\\n\")\n",
    "pprint(eval(result['text']))"
   ]
  }
 ],
 "metadata": {
  "kernelspec": {
   "display_name": "promptify",
   "language": "python",
   "name": "python3"
  },
  "language_info": {
   "codemirror_mode": {
    "name": "ipython",
    "version": 3
   },
   "file_extension": ".py",
   "mimetype": "text/x-python",
   "name": "python",
   "nbconvert_exporter": "python",
   "pygments_lexer": "ipython3",
   "version": "3.9.16"
  },
  "orig_nbformat": 4
 },
 "nbformat": 4,
 "nbformat_minor": 2
}
